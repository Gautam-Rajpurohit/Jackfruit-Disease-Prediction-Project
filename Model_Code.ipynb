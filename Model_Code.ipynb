{
 "cells": [
  {
   "cell_type": "code",
   "execution_count": 21,
   "id": "00ff4d46-a253-4be8-943f-a32e26b6ecc4",
   "metadata": {},
   "outputs": [],
   "source": [
    "import torch\n",
    "import torch.nn as nn\n",
    "import torch.optim as optim\n",
    "import torch.utils.data as data\n",
    "from torchvision import datasets, transforms, models\n",
    "import numpy as np\n",
    "from torch.autograd import grad\n",
    "\n",
    "# Check if GPU is available\n",
    "device = torch.device(\"cuda\" if torch.cuda.is_available() else \"cpu\")\n"
   ]
  },
  {
   "cell_type": "code",
   "execution_count": 23,
   "id": "50fcfce6-4bf3-4aad-ba06-95aa41b0d0e6",
   "metadata": {},
   "outputs": [],
   "source": [
    "# Image preprocessing\n",
    "transform = transforms.Compose([\n",
    "    transforms.Resize((224, 224)),\n",
    "    transforms.ToTensor(),\n",
    "    transforms.Normalize(mean=[0.485, 0.456, 0.406], std=[0.229, 0.224, 0.225])\n",
    "])\n",
    "\n",
    "# Load your jackfruit dataset (assuming a directory structure for each class)\n",
    "train_dataset = datasets.ImageFolder(root=r'C:\\Users\\GAUTAM RAJPUROHIT\\AIES MINI PROJECT FINAL\\MINIPROJECT_AIES\\Jackfruit_Diseasese_Prevention\\train', transform=transform)\n",
    "test_dataset = datasets.ImageFolder(root=r'C:\\Users\\GAUTAM RAJPUROHIT\\AIES MINI PROJECT FINAL\\MINIPROJECT_AIES\\Jackfruit_Diseasese_Prevention\\test' , transform=transform)\n",
    "\n",
    "# Split into train and validation sets\n",
    "train_loader = data.DataLoader(train_dataset, batch_size=20, shuffle=True)\n",
    "test_loader = data.DataLoader(test_dataset, batch_size=20, shuffle=False)\n",
    "\n"
   ]
  },
  {
   "cell_type": "code",
   "execution_count": 25,
   "id": "83a934af-70cf-4630-b745-6796f33bd13c",
   "metadata": {},
   "outputs": [],
   "source": [
    "class DenseNetMAML(nn.Module):\n",
    "    def __init__(self, num_classes=3):\n",
    "        super(DenseNetMAML, self).__init__()\n",
    "        self.densenet = models.densenet121(pretrained=True)  # Load pretrained DenseNet\n",
    "        self.densenet.classifier = nn.Linear(self.densenet.classifier.in_features, num_classes)  # Adjust the classifier\n",
    "\n",
    "    def forward(self, x):\n",
    "        return self.densenet(x)\n",
    "\n",
    "# Initialize the network\n",
    "model = DenseNetMAML().to(device)\n"
   ]
  },
  {
   "cell_type": "code",
   "execution_count": 27,
   "id": "ba7170ab-5006-451f-a214-22b8d4295247",
   "metadata": {},
   "outputs": [],
   "source": [
    "def maml_update(model, loss, inner_lr):\n",
    "    # Perform inner loop updates (fine-tuning on support set)\n",
    "    grads = grad(loss, model.parameters(), create_graph=True)\n",
    "    updated_weights = []\n",
    "    for param, grad_param in zip(model.parameters(), grads):\n",
    "        updated_weights.append(param - inner_lr * grad_param)\n",
    "    return updated_weights\n",
    "\n",
    "def apply_weights(model, updated_weights):\n",
    "    # Apply updated weights to the model\n",
    "    for param, updated_param in zip(model.parameters(), updated_weights):\n",
    "        param.data = updated_param.data\n",
    "\n",
    "def meta_train(model, train_loader, outer_lr=0.001, inner_lr=0.01, num_steps=5):\n",
    "    optimizer = optim.Adam(model.parameters(), lr=outer_lr)\n",
    "    criterion = nn.CrossEntropyLoss()\n",
    "\n",
    "    for epoch in range(20):\n",
    "        model.train()\n",
    "        for i, (images, labels) in enumerate(train_loader):\n",
    "            images, labels = images.to(device), labels.to(device)\n",
    "            \n",
    "            # Split support and query sets (5-shot learning)\n",
    "            support_images = images[:5]\n",
    "            support_labels = labels[:5]\n",
    "            query_images = images[5:]\n",
    "            query_labels = labels[5:]\n",
    "            \n",
    "            # Forward pass on support set\n",
    "            support_outputs = model(support_images)\n",
    "            support_loss = criterion(support_outputs, support_labels)\n",
    "            \n",
    "            # Perform inner loop update (fine-tuning)\n",
    "            updated_weights = maml_update(model, support_loss, inner_lr)\n",
    "\n",
    "            # Forward pass on query set using updated weights\n",
    "            apply_weights(model, updated_weights)  # Apply updated weights to model\n",
    "            query_outputs = model(query_images)\n",
    "            query_loss = criterion(query_outputs, query_labels)\n",
    "\n",
    "            # Perform outer loop update (meta-learning)\n",
    "            optimizer.zero_grad()\n",
    "            query_loss.backward()\n",
    "            optimizer.step()\n",
    "        \n",
    "        print(f'Epoch [{epoch+1}/{20}], Loss: {query_loss.item():.4f}')\n"
   ]
  },
  {
   "cell_type": "code",
   "execution_count": 29,
   "id": "38454cf9-1c7b-4768-8160-9f156abc8fe3",
   "metadata": {},
   "outputs": [],
   "source": [
    "def evaluate(model, test_loader):\n",
    "    model.eval()\n",
    "    correct = 0\n",
    "    total = 0\n",
    "    with torch.no_grad():\n",
    "        for images, labels in test_loader:\n",
    "            images, labels = images.to(device), labels.to(device)\n",
    "            outputs = model(images)\n",
    "            _, predicted = torch.max(outputs.data, 1)\n",
    "            total += labels.size(0)\n",
    "            correct += (predicted == labels).sum().item()\n",
    "\n",
    "    accuracy = 100 * correct / total\n",
    "    print(f'Accuracy of the model on test images: {accuracy:.2f}%')\n",
    "\n",
    "# After training, evaluate the model\n",
    "\n"
   ]
  },
  {
   "cell_type": "code",
   "execution_count": null,
   "id": "d842603d-7490-47c8-9289-1aec95fa31b0",
   "metadata": {},
   "outputs": [
    {
     "name": "stdout",
     "output_type": "stream",
     "text": [
      "Epoch [1/20], Loss: nan\n",
      "Epoch [2/20], Loss: nan\n",
      "Epoch [3/20], Loss: nan\n",
      "Epoch [4/20], Loss: nan\n",
      "Epoch [5/20], Loss: nan\n",
      "Epoch [6/20], Loss: nan\n"
     ]
    }
   ],
   "source": [
    "# Train the model using MAML\n",
    "meta_train(model, train_loader)"
   ]
  },
  {
   "cell_type": "code",
   "execution_count": 107,
   "id": "7bce528f-c32e-4273-8e5c-fb36a1686cea",
   "metadata": {},
   "outputs": [
    {
     "name": "stdout",
     "output_type": "stream",
     "text": [
      "Accuracy of the model on test images: 96.33%\n"
     ]
    }
   ],
   "source": [
    "evaluate(model, test_loader)"
   ]
  },
  {
   "cell_type": "code",
   "execution_count": 17,
   "id": "e5c3d961-fd24-42f3-b32e-82b6236afe5a",
   "metadata": {},
   "outputs": [],
   "source": [
    "# Save the trained model\n",
    "torch.save(model.state_dict(), 'jackfruit_disease_model.pth')\n"
   ]
  },
  {
   "cell_type": "code",
   "execution_count": 19,
   "id": "40f5934c-9801-41df-893e-bce22146b86c",
   "metadata": {},
   "outputs": [
    {
     "name": "stderr",
     "output_type": "stream",
     "text": [
      "C:\\Users\\GAUTAM RAJPUROHIT\\AIES MINI PROJECT FINAL\\MINIPROJECT_AIES\\Jackfruit_Diseasese_Prevention\\torchvision\\models\\_utils.py:223: UserWarning: Arguments other than a weight enum or `None` for 'weights' are deprecated since 0.13 and may be removed in the future. The current behavior is equivalent to passing `weights=None`.\n",
      "  warnings.warn(msg)\n",
      "C:\\Users\\GAUTAM RAJPUROHIT\\AppData\\Local\\Temp\\ipykernel_12900\\2842983106.py:13: FutureWarning: You are using `torch.load` with `weights_only=False` (the current default value), which uses the default pickle module implicitly. It is possible to construct malicious pickle data which will execute arbitrary code during unpickling (See https://github.com/pytorch/pytorch/blob/main/SECURITY.md#untrusted-models for more details). In a future release, the default value for `weights_only` will be flipped to `True`. This limits the functions that could be executed during unpickling. Arbitrary objects will no longer be allowed to be loaded via this mode unless they are explicitly allowlisted by the user via `torch.serialization.add_safe_globals`. We recommend you start setting `weights_only=True` for any use case where you don't have full control of the loaded file. Please open an issue on GitHub for any issues related to this experimental feature.\n",
      "  model.load_state_dict(torch.load('jackfruit_disease_model.pth', map_location=torch.device('cpu')))\n"
     ]
    }
   ],
   "source": [
    "from PIL import Image\n",
    "class DenseNetMAML(nn.Module):\n",
    "    def __init__(self, num_classes=3):\n",
    "        super(DenseNetMAML, self).__init__()\n",
    "        self.densenet = models.densenet121(pretrained=False)\n",
    "        self.densenet.classifier = nn.Linear(self.densenet.classifier.in_features, num_classes)\n",
    "\n",
    "    def forward(self, x):\n",
    "        return self.densenet(x)\n",
    "\n",
    "# Load the trained model\n",
    "model = DenseNetMAML()\n",
    "model.load_state_dict(torch.load('jackfruit_disease_model.pth', map_location=torch.device('cpu')))\n",
    "model.eval()  # Set the model to evaluation mode\n",
    "\n",
    "# Define class names (same as during training)\n",
    "class_names = ['Healthy', 'Algae Leaf Spot Disease', 'Black Spot Disease']\n",
    "\n",
    "# Function to preprocess an image\n",
    "def transform_image(image_path):\n",
    "    transform = transforms.Compose([\n",
    "        transforms.Resize((224, 224)),\n",
    "        transforms.ToTensor(),\n",
    "        transforms.Normalize(mean=[0.485, 0.456, 0.406], std=[0.229, 0.224, 0.225]),\n",
    "    ])\n",
    "    image = Image.open(image_path)\n",
    "    image = transform(image).unsqueeze(0)  # Add batch dimension\n",
    "    return image\n",
    "\n",
    "# Function to make a prediction\n",
    "def predict(image_path):\n",
    "    image_tensor = transform_image(image_path)\n",
    "    output = model(image_tensor)\n",
    "    _, predicted = torch.max(output, 1)\n",
    "    return class_names[predicted.item()]\n"
   ]
  },
  {
   "cell_type": "code",
   "execution_count": null,
   "id": "540dcbb6-026f-466e-adfe-dba073c2f080",
   "metadata": {},
   "outputs": [],
   "source": []
  },
  {
   "cell_type": "code",
   "execution_count": null,
   "id": "eaeb7fb2-a31f-4323-bb14-2be85d1632d7",
   "metadata": {},
   "outputs": [],
   "source": []
  },
  {
   "cell_type": "code",
   "execution_count": null,
   "id": "93fe83ec-5604-4df4-9533-6714d63ef5cb",
   "metadata": {},
   "outputs": [],
   "source": []
  }
 ],
 "metadata": {
  "kernelspec": {
   "display_name": "Python 3 (ipykernel)",
   "language": "python",
   "name": "python3"
  },
  "language_info": {
   "codemirror_mode": {
    "name": "ipython",
    "version": 3
   },
   "file_extension": ".py",
   "mimetype": "text/x-python",
   "name": "python",
   "nbconvert_exporter": "python",
   "pygments_lexer": "ipython3",
   "version": "3.12.4"
  }
 },
 "nbformat": 4,
 "nbformat_minor": 5
}
